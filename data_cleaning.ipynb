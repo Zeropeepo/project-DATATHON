{
  "nbformat": 4,
  "nbformat_minor": 0,
  "metadata": {
    "colab": {
      "provenance": [],
      "toc_visible": true,


      "authorship_tag": "ABX9TyOWG+tT4sehbHhD8gGujY9b",

      "include_colab_link": true
    },
    "kernelspec": {
      "name": "python3",
      "display_name": "Python 3"
    },
    "language_info": {
      "name": "python"
    }
  },
  "cells": [
    {
      "cell_type": "markdown",
      "metadata": {
        "id": "view-in-github",
        "colab_type": "text"
      },
      "source": [

        "<a href=\"https://colab.research.google.com/github/Zeropeepo/project-DATATHON/blob/angeloBranch/data_cleaning.ipynb\" target=\"_parent\"><img src=\"https://colab.research.google.com/assets/colab-badge.svg\" alt=\"Open In Colab\"/></a>"

        "<a href=\"https://colab.research.google.com/github/Zeropeepo/project-DATATHON/blob/angeloBranch/KreditLensa.ipynb\" target=\"_parent\"><img src=\"https://colab.research.google.com/assets/colab-badge.svg\" alt=\"Open In Colab\"/></a>"

      ]
    },
    {
      "cell_type": "code",
      "source": [
        "import pandas as pd\n",
        "import numpy as np\n",
        "import matplotlib as plt\n",
        "from sklearn.model_selection import train_test_split\n",
        "import seaborn as sns\n",
        "from scipy import stats"
      ],
      "metadata": {
        "id": "iF_po8VPwNQC"
      },

      "execution_count": null,

      "execution_count": 59,

      "outputs": []
    },
    {
      "cell_type": "markdown",
      "source": [
        "# **Should This Loan Be Approved Or Not Dataset**\n",
        "\n",
        "The dataset is from the U.S. Small Business Administration (SBA). Contains 899164 rows and 27 columns\n",
        "\n",
        "Columns:\n",
        "1. **LoanNr_ChkDgt** = Identifier Primary key\n",
        "2. **Name** = Borrower name\n",
        "3. **City** = Borrower city\n",
        "4. **State** = Borrower state\n",
        "5. **Zip** = Borrower zip code\n",
        "6. **Bank** = Bank name\n",
        "7. **BankState** = Bank state\n",
        "8. **NAICS** = North American industry classification system code\n",
        "9. **ApprovalDate** = Date SBA commitment issued\n",
        "10. **ApprovalFY** = Fiscal year of commitment\n",
        "11. **Term** = Loan term in months\n",
        "12. **NoEmp** = Number of business employees\n",
        "13. **NewExist** = 1: Existing business, 2: New business\n",
        "14. **CreateJob** = Number of jobs created\n",
        "15. **RetainedJob** = Number of jobs retained\n",
        "16. **FranchiseCode** = Franchise code, 0 or 1: No franchise\n",
        "17. **UrbanRural** = 1: Urban, 2: rural, 0: undefined\n",
        "18. **RevLineCr** = Revolving line of credit, Y: Yes, N: No\n",
        "19. **LowDoc** = LowDoc Loan Program, Y: Yes, N: No\n",
        "20. **ChgOffDate** = The date when a loan is declared to be in default\n",
        "21. **DisbursementDate** = Disbursement date\n",
        "22. **DisbursementGross** = Amount disbursed\n",
        "23. **BalanceGross** = Gross amount outstanding\n",
        "24. **MIS_Status** = Loan status charged off = CHGOFF, Paid in full =PIF\n",
        "25. **ChgOffPrinGr** = Charged-off amount\n",
        "26. **GrAppv** = Gross amount of loan approved by bank\n",
        "27. **SBA_Appv** = SBA's guaranteed amount of approved loan\n",
        "\n"
      ],
      "metadata": {
        "id": "LEH2gq6xEla0"
      }
    },
    {
      "cell_type": "markdown",
      "source": [
        "## Load Dataset From Huggingface"
      ],
      "metadata": {
        "id": "IxWZWdi-0Z6x"
      }
    },
    {
      "cell_type": "code",
      "source": [
        "# !pip install -U datasets"
      ],
      "metadata": {
        "id": "f1xnFm5jeRTK"
      },

      "execution_count": null,

      "execution_count": 60,

      "outputs": []
    },
    {
      "cell_type": "code",
      "source": [
        "from datasets import load_dataset, Features, Value\n",
        "\n",
        "# 1. Download URL for CSV file\n",

        "csv_url = \"https://huggingface.co/datasets/alflax77/XAI_KreditLensa/resolve/main/KreditLensa_Dataset.csv\"\n",

        "csv_url = \"https://huggingface.co/datasets/alflax77/Dataset_KreditLensa/resolve/main/KreditLensa_Dataset.csv\"\n",

        "dataset_id = \"alflax77/Dataset_KreditLensa\"\n",
        "file_name = \"KreditLensa_Dataset.csv\"\n",
        "\n",
        "# 2. Read only the header (nrows=0) to get column names\n",
        "try:\n",
        "    df_header = pd.read_csv(csv_url, nrows=0)\n",
        "    column_names = df_header.columns.tolist()\n",
        "\n",
        "    # 3. Automatically create the feature schema with all columns as strings\n",
        "    feature_schema = Features({col: Value('string') for col in column_names})\n",
        "\n",
        "    # 4. Load the dataset using the generated schema\n",
        "    dataset = load_dataset(\n",
        "        dataset_id,\n",
        "        data_files=file_name,\n",
        "        features=feature_schema,\n",
        "        split='train'\n",
        "    )\n",
        "\n",
        "    print(\"✅ Dataset loaded successfully!\")\n",
        "\n",
        "except Exception as e:\n",
        "    print(f\"An error occurred: {e}\")"
      ],
      "metadata": {
        "colab": {
          "base_uri": "https://localhost:8080/"
        },
        "id": "f2xmoUwzoyj6",
        "outputId": "bb7e14c1-8a12-4391-e14e-5fe5341f4d6d"
      },

      "execution_count": null,

      "execution_count": 61,

      "outputs": [
        {
          "output_type": "stream",
          "name": "stdout",
          "text": [
            "✅ Dataset loaded successfully!\n"
          ]
        }
      ]
    },
    {
      "cell_type": "code",
      "source": [
        "# changing Dataset Object to Pandas Dataframe\n",
        "df = dataset.to_pandas()"
      ],
      "metadata": {
        "id": "0A7tGGzYx8S8"
      },

      "execution_count": null,

      "execution_count": 62,

      "outputs": []
    },
    {
      "cell_type": "code",
      "source": [
        "df.head()"
      ],
      "metadata": {
        "colab": {

          "base_uri": "https://localhost:8080/"

          "base_uri": "https://localhost:8080/",
          "height": 0

        },
        "id": "6nZbk8Ibyyio",
        "outputId": "555da962-00e2-4af6-e5ae-acde71d79715"
      },

      "execution_count": null,

      "execution_count": 63,

      "outputs": [
        {
          "output_type": "execute_result",
          "data": {
            "text/plain": [
              "  LoanNr_ChkDgt                           Name          City State    Zip  \\\n",
              "0    1000014003                 ABC HOBBYCRAFT    EVANSVILLE    IN  47711   \n",
              "1    1000024006    LANDMARK BAR & GRILLE (THE)     NEW PARIS    IN  46526   \n",
              "2    1000034009          WHITLOCK DDS, TODD M.   BLOOMINGTON    IN  47401   \n",
              "3    1000044001  BIG BUCKS PAWN & JEWELRY, LLC  BROKEN ARROW    OK  74012   \n",
              "4    1000054004    ANASTASIA CONFECTIONS, INC.       ORLANDO    FL  32801   \n",
              "\n",
              "                            Bank BankState   NAICS ApprovalDate ApprovalFY  \\\n",
              "0               FIFTH THIRD BANK        OH  451120    28-Feb-97       1997   \n",
              "1                1ST SOURCE BANK        IN  722410    28-Feb-97       1997   \n",
              "2        GRANT COUNTY STATE BANK        IN  621210    28-Feb-97       1997   \n",
              "3  1ST NATL BK & TR CO OF BROKEN        OK       0    28-Feb-97       1997   \n",
              "4        FLORIDA BUS. DEVEL CORP        FL       0    28-Feb-97       1997   \n",
              "\n",
              "   ... RevLineCr LowDoc ChgOffDate DisbursementDate DisbursementGross  \\\n",
              "0  ...         N      Y       None        28-Feb-99       $60,000.00    \n",
              "1  ...         N      Y       None        31-May-97       $40,000.00    \n",
              "2  ...         N      N       None        31-Dec-97      $287,000.00    \n",
              "3  ...         N      Y       None        30-Jun-97       $35,000.00    \n",
              "4  ...         N      N       None        14-May-97      $229,000.00    \n",
              "\n",
              "  BalanceGross MIS_Status ChgOffPrinGr        GrAppv      SBA_Appv  \n",
              "0       $0.00       P I F       $0.00    $60,000.00    $48,000.00   \n",
              "1       $0.00       P I F       $0.00    $40,000.00    $32,000.00   \n",
              "2       $0.00       P I F       $0.00   $287,000.00   $215,250.00   \n",
              "3       $0.00       P I F       $0.00    $35,000.00    $28,000.00   \n",
              "4       $0.00       P I F       $0.00   $229,000.00   $229,000.00   \n",
              "\n",
              "[5 rows x 27 columns]"
            ],
            "text/html": [
              "\n",
              "  <div id=\"df-44995465-6b3a-4752-a3b1-f7f1934d4009\" class=\"colab-df-container\">\n",
              "    <div>\n",
              "<style scoped>\n",
              "    .dataframe tbody tr th:only-of-type {\n",
              "        vertical-align: middle;\n",
              "    }\n",
              "\n",
              "    .dataframe tbody tr th {\n",
              "        vertical-align: top;\n",
              "    }\n",
              "\n",
              "    .dataframe thead th {\n",
              "        text-align: right;\n",
              "    }\n",
              "</style>\n",
              "<table border=\"1\" class=\"dataframe\">\n",
              "  <thead>\n",
              "    <tr style=\"text-align: right;\">\n",
              "      <th></th>\n",
              "      <th>LoanNr_ChkDgt</th>\n",
              "      <th>Name</th>\n",
              "      <th>City</th>\n",
              "      <th>State</th>\n",
              "      <th>Zip</th>\n",
              "      <th>Bank</th>\n",
              "      <th>BankState</th>\n",
              "      <th>NAICS</th>\n",
              "      <th>ApprovalDate</th>\n",
              "      <th>ApprovalFY</th>\n",
              "      <th>...</th>\n",
              "      <th>RevLineCr</th>\n",
              "      <th>LowDoc</th>\n",
              "      <th>ChgOffDate</th>\n",
              "      <th>DisbursementDate</th>\n",
              "      <th>DisbursementGross</th>\n",
              "      <th>BalanceGross</th>\n",
              "      <th>MIS_Status</th>\n",
              "      <th>ChgOffPrinGr</th>\n",
              "      <th>GrAppv</th>\n",
              "      <th>SBA_Appv</th>\n",
              "    </tr>\n",
              "  </thead>\n",
              "  <tbody>\n",
              "    <tr>\n",
              "      <th>0</th>\n",
              "      <td>1000014003</td>\n",
              "      <td>ABC HOBBYCRAFT</td>\n",
              "      <td>EVANSVILLE</td>\n",
              "      <td>IN</td>\n",
              "      <td>47711</td>\n",
              "      <td>FIFTH THIRD BANK</td>\n",
              "      <td>OH</td>\n",
              "      <td>451120</td>\n",
              "      <td>28-Feb-97</td>\n",
              "      <td>1997</td>\n",
              "      <td>...</td>\n",
              "      <td>N</td>\n",
              "      <td>Y</td>\n",
              "      <td>None</td>\n",
              "      <td>28-Feb-99</td>\n",
              "      <td>$60,000.00</td>\n",
              "      <td>$0.00</td>\n",
              "      <td>P I F</td>\n",
              "      <td>$0.00</td>\n",
              "      <td>$60,000.00</td>\n",
              "      <td>$48,000.00</td>\n",
              "    </tr>\n",
              "    <tr>\n",
              "      <th>1</th>\n",
              "      <td>1000024006</td>\n",
              "      <td>LANDMARK BAR &amp; GRILLE (THE)</td>\n",
              "      <td>NEW PARIS</td>\n",
              "      <td>IN</td>\n",
              "      <td>46526</td>\n",
              "      <td>1ST SOURCE BANK</td>\n",
              "      <td>IN</td>\n",
              "      <td>722410</td>\n",
              "      <td>28-Feb-97</td>\n",
              "      <td>1997</td>\n",
              "      <td>...</td>\n",
              "      <td>N</td>\n",
              "      <td>Y</td>\n",
              "      <td>None</td>\n",
              "      <td>31-May-97</td>\n",
              "      <td>$40,000.00</td>\n",
              "      <td>$0.00</td>\n",
              "      <td>P I F</td>\n",
              "      <td>$0.00</td>\n",
              "      <td>$40,000.00</td>\n",
              "      <td>$32,000.00</td>\n",
              "    </tr>\n",
              "    <tr>\n",
              "      <th>2</th>\n",
              "      <td>1000034009</td>\n",
              "      <td>WHITLOCK DDS, TODD M.</td>\n",
              "      <td>BLOOMINGTON</td>\n",
              "      <td>IN</td>\n",
              "      <td>47401</td>\n",
              "      <td>GRANT COUNTY STATE BANK</td>\n",
              "      <td>IN</td>\n",
              "      <td>621210</td>\n",
              "      <td>28-Feb-97</td>\n",
              "      <td>1997</td>\n",
              "      <td>...</td>\n",
              "      <td>N</td>\n",
              "      <td>N</td>\n",
              "      <td>None</td>\n",
              "      <td>31-Dec-97</td>\n",
              "      <td>$287,000.00</td>\n",
              "      <td>$0.00</td>\n",
              "      <td>P I F</td>\n",
              "      <td>$0.00</td>\n",
              "      <td>$287,000.00</td>\n",
              "      <td>$215,250.00</td>\n",
              "    </tr>\n",
              "    <tr>\n",
              "      <th>3</th>\n",
              "      <td>1000044001</td>\n",
              "      <td>BIG BUCKS PAWN &amp; JEWELRY, LLC</td>\n",
              "      <td>BROKEN ARROW</td>\n",
              "      <td>OK</td>\n",
              "      <td>74012</td>\n",
              "      <td>1ST NATL BK &amp; TR CO OF BROKEN</td>\n",
              "      <td>OK</td>\n",
              "      <td>0</td>\n",
              "      <td>28-Feb-97</td>\n",
              "      <td>1997</td>\n",
              "      <td>...</td>\n",
              "      <td>N</td>\n",
              "      <td>Y</td>\n",
              "      <td>None</td>\n",
              "      <td>30-Jun-97</td>\n",
              "      <td>$35,000.00</td>\n",
              "      <td>$0.00</td>\n",
              "      <td>P I F</td>\n",
              "      <td>$0.00</td>\n",
              "      <td>$35,000.00</td>\n",
              "      <td>$28,000.00</td>\n",
              "    </tr>\n",
              "    <tr>\n",
              "      <th>4</th>\n",
              "      <td>1000054004</td>\n",
              "      <td>ANASTASIA CONFECTIONS, INC.</td>\n",
              "      <td>ORLANDO</td>\n",
              "      <td>FL</td>\n",
              "      <td>32801</td>\n",
              "      <td>FLORIDA BUS. DEVEL CORP</td>\n",
              "      <td>FL</td>\n",
              "      <td>0</td>\n",
              "      <td>28-Feb-97</td>\n",
              "      <td>1997</td>\n",
              "      <td>...</td>\n",
              "      <td>N</td>\n",
              "      <td>N</td>\n",
              "      <td>None</td>\n",
              "      <td>14-May-97</td>\n",
              "      <td>$229,000.00</td>\n",
              "      <td>$0.00</td>\n",
              "      <td>P I F</td>\n",
              "      <td>$0.00</td>\n",
              "      <td>$229,000.00</td>\n",
              "      <td>$229,000.00</td>\n",
              "    </tr>\n",
              "  </tbody>\n",
              "</table>\n",
              "<p>5 rows × 27 columns</p>\n",
              "</div>\n",
              "    <div class=\"colab-df-buttons\">\n",
              "\n",
              "  <div class=\"colab-df-container\">\n",
              "    <button class=\"colab-df-convert\" onclick=\"convertToInteractive('df-44995465-6b3a-4752-a3b1-f7f1934d4009')\"\n",
              "            title=\"Convert this dataframe to an interactive table.\"\n",
              "            style=\"display:none;\">\n",
              "\n",
              "  <svg xmlns=\"http://www.w3.org/2000/svg\" height=\"24px\" viewBox=\"0 -960 960 960\">\n",
              "    <path d=\"M120-120v-720h720v720H120Zm60-500h600v-160H180v160Zm220 220h160v-160H400v160Zm0 220h160v-160H400v160ZM180-400h160v-160H180v160Zm440 0h160v-160H620v160ZM180-180h160v-160H180v160Zm440 0h160v-160H620v160Z\"/>\n",
              "  </svg>\n",
              "    </button>\n",
              "\n",
              "  <style>\n",
              "    .colab-df-container {\n",
              "      display:flex;\n",
              "      gap: 12px;\n",
              "    }\n",
              "\n",
              "    .colab-df-convert {\n",
              "      background-color: #E8F0FE;\n",
              "      border: none;\n",
              "      border-radius: 50%;\n",
              "      cursor: pointer;\n",
              "      display: none;\n",
              "      fill: #1967D2;\n",
              "      height: 32px;\n",
              "      padding: 0 0 0 0;\n",
              "      width: 32px;\n",
              "    }\n",
              "\n",
              "    .colab-df-convert:hover {\n",
              "      background-color: #E2EBFA;\n",
              "      box-shadow: 0px 1px 2px rgba(60, 64, 67, 0.3), 0px 1px 3px 1px rgba(60, 64, 67, 0.15);\n",
              "      fill: #174EA6;\n",
              "    }\n",
              "\n",
              "    .colab-df-buttons div {\n",
              "      margin-bottom: 4px;\n",
              "    }\n",
              "\n",
              "    [theme=dark] .colab-df-convert {\n",
              "      background-color: #3B4455;\n",
              "      fill: #D2E3FC;\n",
              "    }\n",
              "\n",
              "    [theme=dark] .colab-df-convert:hover {\n",
              "      background-color: #434B5C;\n",
              "      box-shadow: 0px 1px 3px 1px rgba(0, 0, 0, 0.15);\n",
              "      filter: drop-shadow(0px 1px 2px rgba(0, 0, 0, 0.3));\n",
              "      fill: #FFFFFF;\n",
              "    }\n",
              "  </style>\n",
              "\n",
              "    <script>\n",
              "      const buttonEl =\n",
              "        document.querySelector('#df-44995465-6b3a-4752-a3b1-f7f1934d4009 button.colab-df-convert');\n",
              "      buttonEl.style.display =\n",
              "        google.colab.kernel.accessAllowed ? 'block' : 'none';\n",
              "\n",
              "      async function convertToInteractive(key) {\n",
              "        const element = document.querySelector('#df-44995465-6b3a-4752-a3b1-f7f1934d4009');\n",
              "        const dataTable =\n",
              "          await google.colab.kernel.invokeFunction('convertToInteractive',\n",
              "                                                    [key], {});\n",
              "        if (!dataTable) return;\n",
              "\n",
              "        const docLinkHtml = 'Like what you see? Visit the ' +\n",
              "          '<a target=\"_blank\" href=https://colab.research.google.com/notebooks/data_table.ipynb>data table notebook</a>'\n",
              "          + ' to learn more about interactive tables.';\n",
              "        element.innerHTML = '';\n",
              "        dataTable['output_type'] = 'display_data';\n",
              "        await google.colab.output.renderOutput(dataTable, element);\n",
              "        const docLink = document.createElement('div');\n",
              "        docLink.innerHTML = docLinkHtml;\n",
              "        element.appendChild(docLink);\n",
              "      }\n",
              "    </script>\n",
              "  </div>\n",
              "\n",
              "\n",
              "    <div id=\"df-873ee91a-1599-4ec6-b0d4-2860575f8111\">\n",
              "      <button class=\"colab-df-quickchart\" onclick=\"quickchart('df-873ee91a-1599-4ec6-b0d4-2860575f8111')\"\n",
              "                title=\"Suggest charts\"\n",
              "                style=\"display:none;\">\n",
              "\n",
              "<svg xmlns=\"http://www.w3.org/2000/svg\" height=\"24px\"viewBox=\"0 0 24 24\"\n",
              "     width=\"24px\">\n",
              "    <g>\n",
              "        <path d=\"M19 3H5c-1.1 0-2 .9-2 2v14c0 1.1.9 2 2 2h14c1.1 0 2-.9 2-2V5c0-1.1-.9-2-2-2zM9 17H7v-7h2v7zm4 0h-2V7h2v10zm4 0h-2v-4h2v4z\"/>\n",
              "    </g>\n",
              "</svg>\n",
              "      </button>\n",
              "\n",
              "<style>\n",
              "  .colab-df-quickchart {\n",
              "      --bg-color: #E8F0FE;\n",
              "      --fill-color: #1967D2;\n",
              "      --hover-bg-color: #E2EBFA;\n",
              "      --hover-fill-color: #174EA6;\n",
              "      --disabled-fill-color: #AAA;\n",
              "      --disabled-bg-color: #DDD;\n",
              "  }\n",
              "\n",
              "  [theme=dark] .colab-df-quickchart {\n",
              "      --bg-color: #3B4455;\n",
              "      --fill-color: #D2E3FC;\n",
              "      --hover-bg-color: #434B5C;\n",
              "      --hover-fill-color: #FFFFFF;\n",
              "      --disabled-bg-color: #3B4455;\n",
              "      --disabled-fill-color: #666;\n",
              "  }\n",
              "\n",
              "  .colab-df-quickchart {\n",
              "    background-color: var(--bg-color);\n",
              "    border: none;\n",
              "    border-radius: 50%;\n",
              "    cursor: pointer;\n",
              "    display: none;\n",
              "    fill: var(--fill-color);\n",
              "    height: 32px;\n",
              "    padding: 0;\n",
              "    width: 32px;\n",
              "  }\n",
              "\n",
              "  .colab-df-quickchart:hover {\n",
              "    background-color: var(--hover-bg-color);\n",
              "    box-shadow: 0 1px 2px rgba(60, 64, 67, 0.3), 0 1px 3px 1px rgba(60, 64, 67, 0.15);\n",
              "    fill: var(--button-hover-fill-color);\n",
              "  }\n",
              "\n",
              "  .colab-df-quickchart-complete:disabled,\n",
              "  .colab-df-quickchart-complete:disabled:hover {\n",
              "    background-color: var(--disabled-bg-color);\n",
              "    fill: var(--disabled-fill-color);\n",
              "    box-shadow: none;\n",
              "  }\n",
              "\n",
              "  .colab-df-spinner {\n",
              "    border: 2px solid var(--fill-color);\n",
              "    border-color: transparent;\n",
              "    border-bottom-color: var(--fill-color);\n",
              "    animation:\n",
              "      spin 1s steps(1) infinite;\n",
              "  }\n",
              "\n",
              "  @keyframes spin {\n",
              "    0% {\n",
              "      border-color: transparent;\n",
              "      border-bottom-color: var(--fill-color);\n",
              "      border-left-color: var(--fill-color);\n",
              "    }\n",
              "    20% {\n",
              "      border-color: transparent;\n",
              "      border-left-color: var(--fill-color);\n",
              "      border-top-color: var(--fill-color);\n",
              "    }\n",
              "    30% {\n",
              "      border-color: transparent;\n",
              "      border-left-color: var(--fill-color);\n",
              "      border-top-color: var(--fill-color);\n",
              "      border-right-color: var(--fill-color);\n",
              "    }\n",
              "    40% {\n",
              "      border-color: transparent;\n",
              "      border-right-color: var(--fill-color);\n",
              "      border-top-color: var(--fill-color);\n",
              "    }\n",
              "    60% {\n",
              "      border-color: transparent;\n",
              "      border-right-color: var(--fill-color);\n",
              "    }\n",
              "    80% {\n",
              "      border-color: transparent;\n",
              "      border-right-color: var(--fill-color);\n",
              "      border-bottom-color: var(--fill-color);\n",
              "    }\n",
              "    90% {\n",
              "      border-color: transparent;\n",
              "      border-bottom-color: var(--fill-color);\n",
              "    }\n",
              "  }\n",
              "</style>\n",
              "\n",
              "      <script>\n",
              "        async function quickchart(key) {\n",
              "          const quickchartButtonEl =\n",
              "            document.querySelector('#' + key + ' button');\n",
              "          quickchartButtonEl.disabled = true;  // To prevent multiple clicks.\n",
              "          quickchartButtonEl.classList.add('colab-df-spinner');\n",
              "          try {\n",
              "            const charts = await google.colab.kernel.invokeFunction(\n",
              "                'suggestCharts', [key], {});\n",
              "          } catch (error) {\n",
              "            console.error('Error during call to suggestCharts:', error);\n",
              "          }\n",
              "          quickchartButtonEl.classList.remove('colab-df-spinner');\n",
              "          quickchartButtonEl.classList.add('colab-df-quickchart-complete');\n",
              "        }\n",
              "        (() => {\n",
              "          let quickchartButtonEl =\n",
              "            document.querySelector('#df-873ee91a-1599-4ec6-b0d4-2860575f8111 button');\n",
              "          quickchartButtonEl.style.display =\n",
              "            google.colab.kernel.accessAllowed ? 'block' : 'none';\n",
              "        })();\n",
              "      </script>\n",
              "    </div>\n",
              "\n",
              "    </div>\n",
              "  </div>\n"
            ],
            "application/vnd.google.colaboratory.intrinsic+json": {
              "type": "dataframe",
              "variable_name": "df"
            }
          },
          "metadata": {},
          "execution_count": 63
        }
      ]
    },
    {
      "cell_type": "code",
      "source": [
        "df.info()"
      ],
      "metadata": {
        "colab": {
          "base_uri": "https://localhost:8080/"
        },
        "id": "L8w6ZAZi0hoh",
        "outputId": "e7ab3525-ac6b-463e-dc79-6f78a46fccce"
      },

      "execution_count": null,

      "execution_count": 64,

      "outputs": [
        {
          "output_type": "stream",
          "name": "stdout",
          "text": [
            "<class 'pandas.core.frame.DataFrame'>\n",
            "RangeIndex: 899164 entries, 0 to 899163\n",
            "Data columns (total 27 columns):\n",
            " #   Column             Non-Null Count   Dtype \n",
            "---  ------             --------------   ----- \n",
            " 0   LoanNr_ChkDgt      899164 non-null  object\n",
            " 1   Name               899150 non-null  object\n",
            " 2   City               899134 non-null  object\n",
            " 3   State              899150 non-null  object\n",
            " 4   Zip                899164 non-null  object\n",
            " 5   Bank               897605 non-null  object\n",
            " 6   BankState          897598 non-null  object\n",
            " 7   NAICS              899164 non-null  object\n",
            " 8   ApprovalDate       899164 non-null  object\n",
            " 9   ApprovalFY         899164 non-null  object\n",
            " 10  Term               899164 non-null  object\n",
            " 11  NoEmp              899164 non-null  object\n",
            " 12  NewExist           899028 non-null  object\n",
            " 13  CreateJob          899164 non-null  object\n",
            " 14  RetainedJob        899164 non-null  object\n",
            " 15  FranchiseCode      899164 non-null  object\n",
            " 16  UrbanRural         899164 non-null  object\n",
            " 17  RevLineCr          894636 non-null  object\n",
            " 18  LowDoc             896582 non-null  object\n",
            " 19  ChgOffDate         162699 non-null  object\n",
            " 20  DisbursementDate   896796 non-null  object\n",
            " 21  DisbursementGross  899164 non-null  object\n",
            " 22  BalanceGross       899164 non-null  object\n",
            " 23  MIS_Status         897167 non-null  object\n",
            " 24  ChgOffPrinGr       899164 non-null  object\n",
            " 25  GrAppv             899164 non-null  object\n",
            " 26  SBA_Appv           899164 non-null  object\n",
            "dtypes: object(27)\n",
            "memory usage: 185.2+ MB\n"
          ]
        }
      ]
    },
    {
      "cell_type": "markdown",
      "source": [
        "## Data Cleaning"
      ],
      "metadata": {
        "id": "WPvc1Ovs0tMv"
      }
    },
    {
      "cell_type": "code",
      "source": [
        "df1 = df.copy()"
      ],
      "metadata": {
        "id": "0LJhBcgLu931"
      },

      "execution_count": null,

      "execution_count": 65,

      "outputs": []
    },
    {
      "cell_type": "code",
      "source": [
        "# drop features that can't be implemented in Indonesia\n",
        "df1.drop(['LoanNr_ChkDgt', 'Name', 'City', 'State', 'Zip', 'Bank', 'BankState', 'ApprovalDate', 'ApprovalFY', 'LowDoc', 'ChgOffDate', 'BalanceGross', 'ChgOffPrinGr', 'DisbursementDate', 'SBA_Appv'], axis=1, inplace=True)"
      ],
      "metadata": {
        "id": "jpGIa5Dq6gSW"
      },

      "execution_count": null,

      "execution_count": 66,

      "outputs": []
    },
    {
      "cell_type": "code",
      "source": [
        "# drop GrAppv because the function is more or less the same as Disbursement gross\n",
        "# disbursement gross = the amount of loan a customer take\n",
        "# grappv (gross approval) = the maximum amount of loan that bank can give\n",
        "df1.drop('GrAppv', axis=1, inplace=True)"
      ],
      "metadata": {
        "id": "WX9zKu8HJ_RM"
      },

      "execution_count": null,

      "execution_count": 67,

      "outputs": []
    },
    {
      "cell_type": "code",
      "source": [
        "# change the data types of 'Term', 'NoEmp', 'CreateJob', 'RetainedJob' to int64\n",
        "df1['Term'] = df1['Term'].astype('int64')\n",
        "df1['NoEmp'] = df1['NoEmp'].astype('int64')\n",
        "df1['CreateJob'] = df1['CreateJob'].astype('int64')\n",
        "df1['RetainedJob'] = df1['RetainedJob'].astype('int64')"
      ],
      "metadata": {
        "id": "TxjRVEpM1gHb"
      },

      "execution_count": null,

      "execution_count": 68,

      "outputs": []
    },
    {
      "cell_type": "code",
      "source": [
        "# only take the first 2 digits of NAICS\n",
        "df1['NAICS'] = df1['NAICS'].apply(lambda x: int(str(x)[:2]))"
      ],
      "metadata": {
        "id": "T-3su7UytEkW"
      },

      "execution_count": null,

      "execution_count": 69,

      "outputs": []
    },
    {
      "cell_type": "code",
      "source": [
        "naics_dict = {\n",
        "    11: \"Agriculture, Forestry, Fishing and Hunting\",\n",
        "    21: \"Mining, quarrying, and oil and gas extraction\",\n",
        "    22: \"Utilities\",\n",
        "    23: \"Construction\",\n",
        "    31: \"Manufacturing\",\n",
        "    32: \"Manufacturing\",\n",
        "    33: \"Manufacturing\",\n",
        "    42: \"Wholesale trade\",\n",
        "    44: \"Retail trade\",\n",
        "    45: \"Retail trade\",\n",
        "    48: \"Transportation and warehousing\",\n",
        "    49: \"Transportation and warehousing\",\n",
        "    51: \"Information\",\n",
        "    52: \"Finance and insurance\",\n",
        "    53: \"Real estate and rental and leasing\",\n",
        "    54: \"Professional, scientific, and technical services\",\n",
        "    55: \"Management of companies and enterprises\",\n",
        "    56: \"Administrative and support and waste management and remediation services\",\n",
        "    61: \"Educational services\",\n",
        "    62: \"Health care and social assistance\",\n",
        "    71: \"Arts, entertainment, and recreation\",\n",
        "    72: \"Accommodation and food services\",\n",
        "    81: \"Other services (except public administration)\",\n",
        "    92: \"Public administration\",\n",
        "    0: \"Not Stated\"\n",
        "}"
      ],
      "metadata": {
        "id": "HJK0xPd1uaM0"
      },

      "execution_count": null,

      "execution_count": 70,

      "outputs": []
    },
    {
      "cell_type": "code",
      "source": [
        "# change NAICS digits into the real value of industry job classification\n",
        "df1['NAICS'] = df1['NAICS'].map(naics_dict)"
      ],
      "metadata": {
        "id": "7qNf7CYHuz1p"
      },

      "execution_count": null,

      "execution_count": 71,

      "outputs": []
    },
    {
      "cell_type": "code",
      "source": [
        "#change unit from dollar to rupiah\n",
        "def dollar_to_rp(x):\n",
        "    dollar = float(x.replace(',', '').replace('$', ''))\n",
        "    rupiah = dollar*16500\n",
        "    rupiah_normalized = int(rupiah/15.5)     # dibagi dengan skala biaya hidup di US vs Indo\n",
        "    return float(rupiah_normalized)\n",
        "\n",
        "df1['DisbursementGross'] = df1['DisbursementGross'].apply(dollar_to_rp)"
      ],
      "metadata": {
        "id": "SQ4YwViWWhH-"
      },

      "execution_count": null,

      "execution_count": 72,

      "outputs": []
    },
    {
      "cell_type": "code",
      "source": [
        "# change FranchiseCode value into object:\n",
        "# 0 or 1 --> no franchise (0)\n",
        "# others --> has franchise (1)\n",
        "df1['FranchiseCode'] = df1['FranchiseCode'].apply(lambda x: '0' if x in [0, 1] else '1')"
      ],
      "metadata": {
        "id": "HT4qKEtWIE8z"
      },

      "execution_count": null,

      "execution_count": 73,

      "outputs": []
    },
    {
      "cell_type": "code",
      "source": [
        "# change 'NewExist', 'FranchiseCode', 'UrbanRural' into object/categorical data\n",
        "df1['NewExist'] = df1['NewExist'].apply(lambda x: '1' if x == 1 else '2')\n",
        "df1['UrbanRural'] = df1['UrbanRural'].astype('object')"
      ],
      "metadata": {
        "id": "UDsY8pYGyWMT"
      },

      "execution_count": null,

      "execution_count": 74,

      "outputs": []
    },
    {
      "cell_type": "code",
      "source": [
        "# drop the rest of the NaN value\n",
        "df1.dropna(inplace=True)"
      ],
      "metadata": {
        "id": "6QKvaDM9Y1BU"
      },

      "execution_count": null,

      "execution_count": 75,

      "outputs": []
    },
    {
      "cell_type": "code",
      "source": [
        "df1.info()"
      ],
      "metadata": {
        "colab": {
          "base_uri": "https://localhost:8080/"
        },
        "id": "hkhHcMcGcKVj",
        "outputId": "7d39d07d-1701-449a-a225-f08964f10906"
      },

      "execution_count": null,

      "execution_count": 76,

      "outputs": [
        {
          "output_type": "stream",
          "name": "stdout",
          "text": [
            "<class 'pandas.core.frame.DataFrame'>\n",
            "Index: 892647 entries, 0 to 899163\n",
            "Data columns (total 11 columns):\n",
            " #   Column             Non-Null Count   Dtype  \n",
            "---  ------             --------------   -----  \n",
            " 0   NAICS              892647 non-null  object \n",
            " 1   Term               892647 non-null  int64  \n",
            " 2   NoEmp              892647 non-null  int64  \n",
            " 3   NewExist           892647 non-null  object \n",
            " 4   CreateJob          892647 non-null  int64  \n",
            " 5   RetainedJob        892647 non-null  int64  \n",
            " 6   FranchiseCode      892647 non-null  object \n",
            " 7   UrbanRural         892647 non-null  object \n",
            " 8   RevLineCr          892647 non-null  object \n",
            " 9   DisbursementGross  892647 non-null  float64\n",
            " 10  MIS_Status         892647 non-null  object \n",
            "dtypes: float64(1), int64(4), object(6)\n",
            "memory usage: 81.7+ MB\n"
          ]
        }
      ]
    },
    {
      "cell_type": "markdown",
      "source": [
        "## Simple modelling with catboost"
      ],
      "metadata": {
        "id": "ZCFTTS3-6h8f"
      }
    },
    {
      "cell_type": "code",
      "source": [
        "pip install catboost"
      ],
      "metadata": {
        "colab": {
          "base_uri": "https://localhost:8080/"
        },
        "id": "7dJXDj-O61Zr",
        "outputId": "e0d3b5d7-47b7-4a4f-c857-d97a654f36d5"
      },

      "execution_count": null,

      "execution_count": 77,

      "outputs": [
        {
          "output_type": "stream",
          "name": "stdout",
          "text": [
            "Requirement already satisfied: catboost in /usr/local/lib/python3.11/dist-packages (1.2.8)\n",
            "Requirement already satisfied: graphviz in /usr/local/lib/python3.11/dist-packages (from catboost) (0.21)\n",
            "Requirement already satisfied: matplotlib in /usr/local/lib/python3.11/dist-packages (from catboost) (3.10.0)\n",
            "Requirement already satisfied: numpy<3.0,>=1.16.0 in /usr/local/lib/python3.11/dist-packages (from catboost) (2.0.2)\n",
            "Requirement already satisfied: pandas>=0.24 in /usr/local/lib/python3.11/dist-packages (from catboost) (2.2.2)\n",
            "Requirement already satisfied: scipy in /usr/local/lib/python3.11/dist-packages (from catboost) (1.15.3)\n",
            "Requirement already satisfied: plotly in /usr/local/lib/python3.11/dist-packages (from catboost) (5.24.1)\n",
            "Requirement already satisfied: six in /usr/local/lib/python3.11/dist-packages (from catboost) (1.17.0)\n",
            "Requirement already satisfied: python-dateutil>=2.8.2 in /usr/local/lib/python3.11/dist-packages (from pandas>=0.24->catboost) (2.9.0.post0)\n",
            "Requirement already satisfied: pytz>=2020.1 in /usr/local/lib/python3.11/dist-packages (from pandas>=0.24->catboost) (2025.2)\n",
            "Requirement already satisfied: tzdata>=2022.7 in /usr/local/lib/python3.11/dist-packages (from pandas>=0.24->catboost) (2025.2)\n",
            "Requirement already satisfied: contourpy>=1.0.1 in /usr/local/lib/python3.11/dist-packages (from matplotlib->catboost) (1.3.2)\n",
            "Requirement already satisfied: cycler>=0.10 in /usr/local/lib/python3.11/dist-packages (from matplotlib->catboost) (0.12.1)\n",
            "Requirement already satisfied: fonttools>=4.22.0 in /usr/local/lib/python3.11/dist-packages (from matplotlib->catboost) (4.58.4)\n",
            "Requirement already satisfied: kiwisolver>=1.3.1 in /usr/local/lib/python3.11/dist-packages (from matplotlib->catboost) (1.4.8)\n",
            "Requirement already satisfied: packaging>=20.0 in /usr/local/lib/python3.11/dist-packages (from matplotlib->catboost) (24.2)\n",
            "Requirement already satisfied: pillow>=8 in /usr/local/lib/python3.11/dist-packages (from matplotlib->catboost) (11.2.1)\n",
            "Requirement already satisfied: pyparsing>=2.3.1 in /usr/local/lib/python3.11/dist-packages (from matplotlib->catboost) (3.2.3)\n",
            "Requirement already satisfied: tenacity>=6.2.0 in /usr/local/lib/python3.11/dist-packages (from plotly->catboost) (8.5.0)\n"
          ]
        }
      ]
    },
    {
      "cell_type": "code",
      "source": [
        "from catboost import CatBoostClassifier, Pool\n",
        "from sklearn.metrics import accuracy_score, classification_report"
      ],
      "metadata": {
        "id": "EigwZQHY63QW"
      },

      "execution_count": null,

      "execution_count": 78,

      "outputs": []
    },
    {
      "cell_type": "code",
      "source": [
        "categorical_data = []\n",
        "numerical_data = []\n",
        "target = 'MIS_Status'\n",
        "for i in df1.drop(target, axis=1).columns:\n",
        "    if df1[i].dtype == 'object':\n",
        "        categorical_data.append(i)\n",
        "    else:\n",
        "        numerical_data.append(i)"
      ],
      "metadata": {
        "id": "PFo_E0-92yu6"
      },

      "execution_count": null,

      "execution_count": 79,

      "outputs": []
    },
    {
      "cell_type": "markdown",
      "source": [
        "**Total 10 fitur/kolom**"
      ],
      "metadata": {
        "id": "8Z9MHIg20xNp"
      }
    },
    {
      "cell_type": "code",
      "source": [
        "X = df1.drop(target, axis=1)\n",
        "y = df1[target]"
      ],
      "metadata": {
        "id": "XzP_gH_sp5nA"
      },

      "execution_count": null,

      "execution_count": 80,

      "outputs": []
    },
    {
      "cell_type": "code",
      "source": [
        "X_train, X_test, y_train, y_test = train_test_split(X, y, test_size=0.3, random_state=42)"
      ],
      "metadata": {
        "id": "Z9uOYfvZom_5"
      },

      "execution_count": null,

      "execution_count": 81,

      "outputs": []
    },
    {
      "cell_type": "code",
      "source": [
        "# Create a CatBoost Pool\n",
        "train_pool = Pool(data=X_train, label=y_train, cat_features=categorical_data)\n",
        "test_pool = Pool(data=X_test, label=y_test, cat_features=categorical_data)\n",
        "\n",
        "# Initialize the CatBoostClassifier\n",
        "model = CatBoostClassifier(\n",
        "    iterations=100,\n",
        "    learning_rate=0.1,\n",
        "    depth=3,\n",
        "    loss_function='Logloss',\n",
        "    verbose=False  # Suppress output during training\n",
        ")\n",
        "\n",
        "# Train the model\n",
        "model.fit(train_pool)"
      ],
      "metadata": {
        "colab": {
          "base_uri": "https://localhost:8080/"
        },
        "id": "0Qu5rZlOouZ7",
        "outputId": "ed02e7d3-1e1c-4aec-a3d9-4d744ff71783"
      },

      "execution_count": null,

      "execution_count": 82,

      "outputs": [
        {
          "output_type": "execute_result",
          "data": {
            "text/plain": [
              "<catboost.core.CatBoostClassifier at 0x7c0a67b2e6d0>"
            ]
          },
          "metadata": {},
          "execution_count": 82
        }
      ]
    },
    {
      "cell_type": "code",
      "source": [
        "y_pred = model.predict(X_test)"
      ],
      "metadata": {
        "id": "9OlYWw4NMUFF"
      },

      "execution_count": null,

      "execution_count": 83,

      "outputs": []
    },
    {
      "cell_type": "code",
      "source": [
        "accuracy = accuracy_score(y_test, y_pred)\n",
        "print(f'Accuracy: {accuracy:.2f}\\n')\n",
        "print(classification_report(y_test, y_pred))"
      ],
      "metadata": {
        "colab": {
          "base_uri": "https://localhost:8080/"
        },
        "id": "dZECtlyKMY7Q",
        "outputId": "b406b57d-c146-4d7b-bca2-55f5aa9b51cd"
      },

      "execution_count": null,

      "execution_count": 84,

      "outputs": [
        {
          "output_type": "stream",
          "name": "stdout",
          "text": [
            "Accuracy: 0.92\n",
            "\n",
            "              precision    recall  f1-score   support\n",
            "\n",
            "      CHGOFF       0.81      0.69      0.75     46853\n",
            "       P I F       0.94      0.97      0.95    220942\n",
            "\n",
            "    accuracy                           0.92    267795\n",
            "   macro avg       0.87      0.83      0.85    267795\n",
            "weighted avg       0.91      0.92      0.92    267795\n",
            "\n"
          ]
        }
      ]
    }
  ]

}

}

