{
 "cells": [
  {
   "cell_type": "markdown",
   "metadata": {},
   "source": [
    "# Feature Enrichment untuk Dataset KreditLensa\n",
    "\n",
    "Script ini bertanggung jawab untuk memperkaya dataset utama `KreditLensa_Dataset.csv` dengan data sosio-ekonomi tambahan dari Indonesia, seperti PDRB (Produk Domestik Regional Bruto), TPT (Tingkat Pengangguran Terbuka), dan data UMKM nasional. Proses ini meliputi pemuatan data, pembersihan, rekayasa fitur, penggabungan dataset, dan penyimpanan dataset yang sudah diperkaya."
   ]
  },
  {
   "cell_type": "code",
   "execution_count": null,
   "metadata": {},
   "outputs": [],
   "source": [
    "import pandas as pd\n",
    "import numpy as np\n",
    "import warnings\n",
    "\n",
    "# Mengabaikan peringatan untuk menjaga output tetap bersih\n",
    "warnings.filterwarnings('ignore')"
   ]
  },
  {
   "cell_type": "markdown",
   "metadata": {},
   "source": [
    "## Bagian 1: Pemuatan Dataset\n",
    "\n",
    "Pada bagian ini, semua dataset yang diperlukan akan dimuat ke dalam DataFrame Pandas."
   ]
  },
  {
   "cell_type": "code",
   "execution_count": null,
   "metadata": {},
   "outputs": [],
   "source": [
    "print(\"Memuat dataset...\")\n",
    "\n",
    "# Memuat dataset utama KreditLensa\n",
    "df_kredit = pd.read_csv(\n",
    "    '/home/neva/DS_PROJECT/Datathon/Dataset_KreditLensa/KreditLensa_Dataset.csv',\n",
    "    low_memory=False\n",
    ")\n",
    "\n",
    "# Memuat data PDRB (Produk Domestik Regional Bruto) per provinsi\n",
    "df_pdrb = pd.read_csv(\n",
    "    '/home/neva/DS_PROJECT/Datathon/Dataset_KreditLensa/[Seri 2010] Distribusi PDRB Terhadap Seluruh Provinsi Indonesia Atas Dasar Harga Berlaku Menurut Provinsi, 2024.csv',\n",
    "    skiprows=4 # Melewatkan baris header yang tidak relevan\n",
    ")\n",
    "\n",
    "# Memuat data posisi kredit UMKM nasional\n",
    "df_umkm = pd.read_csv(\n",
    "    '/home/neva/DS_PROJECT/Datathon/Dataset_KreditLensa/Posisi Kredit Usaha Mikro, Kecil, dan Menengah (UMKM) 1 pada Bank Umum (miliar rupiah), 2012-2016.csv',\n",
    "    skiprows=3 # Melewatkan baris header yang tidak relevan\n",
    ")\n",
    "\n",
    "# Memuat data Tingkat Pengangguran Terbuka (TPT) dan Tingkat Partisipasi Angkatan Kerja (TPAK)\n",
    "df_tpt = pd.read_csv(\n",
    "    '/home/neva/DS_PROJECT/Datathon/Dataset_KreditLensa/Tingkat Pengangguran Terbuka (TPT) dan Tingkat Partisipasi Angkatan Kerja (TPAK) Menurut Provinsi, 2023.csv'\n",
    ")\n",
    "\n",
    "print(\"Dataset berhasil dimuat.\")"
   ]
  },
  {
   "cell_type": "markdown",
   "metadata": {},
   "source": [
    "## Bagian 2: Pembersihan dan Persiapan Data\n",
    "\n",
    "Bagian ini fokus pada pembersihan dan transformasi data agar siap untuk proses penggabungan."
   ]
  },
  {
   "cell_type": "code",
   "execution_count": null,
   "metadata": {},
   "outputs": [],
   "source": [
    "print(\"Memulai pembersihan dan persiapan data...\")\n",
    "\n",
    "# 2.1. Pembersihan df_kredit (Dataset Utama)\n",
    "print(\"  - Membersihkan data kredit...\")\n",
    "# Mengubah kolom mata uang menjadi tipe float\n",
    "currency_cols = ['DisbursementGross', 'GrAppv', 'SBA_Appv']\n",
    "for col in currency_cols:\n",
    "    if df_kredit[col].dtype == 'object':\n",
    "        df_kredit[col] = df_kredit[col].str.replace('$', '', regex=False).str.replace(',', '', regex=False).astype(float)\n",
    "\n",
    "# Mengubah kolom tanggal menjadi format datetime dan mengekstrak tahun persetujuan\n",
    "df_kredit['ApprovalDate'] = pd.to_datetime(df_kredit['ApprovalDate'], errors='coerce')\n",
    "df_kredit['TahunPersetujuan'] = df_kredit['ApprovalDate'].dt.year\n",
    "\n",
    "# Mengubah 'MIS_Status' menjadi biner (1 untuk CHGOFF/Gagal Bayar, 0 untuk lainnya)\n",
    "df_kredit['MIS_Status'] = df_kredit['MIS_Status'].apply(lambda x: 1 if str(x).strip() == 'CHGOFF' else 0)"
   ]
  },
  {
   "cell_type": "code",
   "execution_count": null,
   "metadata": {},
   "outputs": [],
   "source": [
    "# 2.2. Pembersihan df_pdrb\n",
    "print(\"  - Membersihkan data PDRB...\")\n",
    "# Mengganti nama kolom pertama menjadi 'Provinsi'\n",
    "df_pdrb = df_pdrb.rename(columns={df_pdrb.columns[0]: 'Provinsi'})\n",
    "# Melakukan unpivot data dari format lebar ke panjang\n",
    "df_pdrb = df_pdrb.melt(id_vars=['Provinsi'], var_name='Tahun', value_name='Distribusi_PDRB')\n",
    "# Mengubah kolom 'Tahun' menjadi numerik\n",
    "df_pdrb['Tahun'] = pd.to_numeric(df_pdrb['Tahun'])"
   ]
  },
  {
   "cell_type": "code",
   "execution_count": null,
   "metadata": {},
   "outputs": [],
   "source": [
    "# 2.3. Pembersihan df_tpt\n",
    "print(\"  - Membersihkan data TPT...\")\n",
    "# Mengubah kolom TPT menjadi numerik, mengubah nilai bermasalah menjadi NaN\n",
    "for col in ['Tingkat Pengangguran Terbuka (TPT) - Februari', 'Tingkat Pengangguran Terbuka (TPT) - Agustus']:\n",
    "    df_tpt[col] = pd.to_numeric(df_tpt[col], errors='coerce')\n",
    "# Menghapus baris dengan NaN di kolom TPT yang relevan\n",
    "df_tpt.dropna(subset=['Tingkat Pengangguran Terbuka (TPT) - Februari', 'Tingkat Pengangguran Terbuka (TPT) - Agustus'], inplace=True)\n",
    "# Menghitung rata-rata TPT tahunan dari data Februari dan Agustus\n",
    "df_tpt['TPT_Tahunan'] = df_tpt[['Tingkat Pengangguran Terbuka (TPT) - Februari', 'Tingkat Pengangguran Terbuka (TPT) - Agustus']].mean(axis=1)\n",
    "# Memilih kolom yang relevan dan menambahkan kolom 'Tahun'\n",
    "df_tpt = df_tpt[['Provinsi', 'TPT_Tahunan']].copy()\n",
    "df_tpt['Tahun'] = 2023 # Data TPT yang tersedia adalah untuk tahun 2023"
   ]
  },
  {
   "cell_type": "code",
   "execution_count": null,
   "metadata": {},
   "outputs": [],
   "source": [
    "# 2.4. Pembersihan df_umkm\n",
    "print(\"  - Membersihkan data UMKM...\")\n",
    "# Mengganti nama kolom untuk kemudahan akses\n",
    "df_umkm.columns = ['Rincian', '2012', '2013', '2014', '2015', '2016']\n",
    "# Memilih baris yang relevan (Total Modal Kerja) dan melakukan unpivot\n",
    "df_umkm_total = df_umkm[df_umkm['Rincian'] == 'Modal Kerja'].copy()\n",
    "df_umkm_total = df_umkm_total.melt(id_vars=['Rincian'], var_name='Tahun', value_name='Total_Kredit_UMKM_Nasional')\n",
    "# Mengubah kolom 'Tahun' menjadi numerik\n",
    "df_umkm_total['Tahun'] = pd.to_numeric(df_umkm_total['Tahun'])\n",
    "# Membersihkan dan mengubah kolom nilai kredit menjadi float\n",
    "df_umkm_total['Total_Kredit_UMKM_Nasional'] = df_umkm_total['Total_Kredit_UMKM_Nasional'].str.replace(' ', '').astype(float)\n",
    "# Memilih kolom yang relevan\n",
    "df_umkm_total = df_umkm_total[['Tahun', 'Total_Kredit_UMKM_Nasional']]\n",
    "\n",
    "print(\"Pembersihan dan persiapan data selesai.\")"
   ]
  },
  {
   "cell_type": "markdown",
   "metadata": {},
   "source": [
    "## Bagian 3: Rekayasa Fitur (Feature Engineering)\n",
    "\n",
    "Pada bagian ini, dilakukan rekayasa fitur, termasuk pemetaan negara bagian AS ke provinsi Indonesia untuk tujuan simulasi."
   ]
  },
  {
   "cell_type": "code",
   "execution_count": null,
   "metadata": {},
   "outputs": [],
   "source": [
    "print(\"Memulai rekayasa fitur...\")\n",
    "\n",
    "# 3.1. Pemetaan Negara Bagian AS ke Provinsi Indonesia (Simulasi)\n",
    "# Karena dataset asli menggunakan negara bagian AS, kita akan memetakannya secara acak\n",
    "# ke provinsi-provinsi di Indonesia untuk tujuan simulasi dan enrichment.\n",
    "print(\"  - Memetakan negara bagian AS ke provinsi Indonesia (simulasi)...\")\n",
    "us_states = df_kredit['State'].unique()\n",
    "indonesian_provinces = df_pdrb['Provinsi'].dropna().unique()\n",
    "\n",
    "# Menetapkan seed untuk reproduktifitas, sehingga pemetaan 'acak' selalu sama.\n",
    "np.random.seed(42)\n",
    "\n",
    "# Membuat mapping acak. Dalam skenario nyata, ini akan didasarkan pada data geografis/demografis yang relevan.\n",
    "state_to_province_map = {state: province for state, province in zip(us_states, np.random.choice(indonesian_provinces, len(us_states), replace=True))}\n",
    "df_kredit['Provinsi'] = df_kredit['State'].map(state_to_province_map)\n",
    "\n",
    "print(\"Rekayasa fitur selesai.\")"
   ]
  },
  {
   "cell_type": "markdown",
   "metadata": {},
   "source": [
    "## Bagian 4: Penggabungan Dataset (Feature Enrichment)\n",
    "\n",
    "Dataset-dataset yang telah dibersihkan dan disiapkan akan digabungkan untuk memperkaya dataset utama."
   ]
  },
  {
   "cell_type": "code",
   "execution_count": null,
   "metadata": {},
   "outputs": [],
   "source": [
    "print(\"Menggabungkan dataset...\")\n",
    "    \n",
    "# 4.1. Menggabungkan semua dataset dengan metode 'left'\n",
    "df_enriched = pd.merge(df_kredit, df_pdrb, left_on=['TahunPersetujuan', 'Provinsi'], right_on=['Tahun', 'Provinsi'], how='left')\n",
    "df_enriched = pd.merge(df_enriched, df_tpt, on=['TahunPersetujuan', 'Provinsi'], how='left')\n",
    "df_enriched = pd.merge(df_enriched, df_umkm_total, left_on='TahunPersetujuan', right_on='Tahun', how='left')\n",
    "    \n",
    "# 4.2. Logika Pengisian Cerdas untuk Data Ekonomi\n",
    "print(\"  - Mengisi data ekonomi yang kosong menggunakan metode forward/backward fill...\")\n",
    "# Mengisi data per provinsi untuk TPT dan PDRB\n",
    "df_enriched['TPT_Tahunan'] = df_enriched.groupby('Provinsi')['TPT_Tahunan'].transform(lambda x: x.ffill().bfill())\n",
    "df_enriched['Distribusi_PDRB'] = df_enriched.groupby('Provinsi')['Distribusi_PDRB'].transform(lambda x: x.ffill().bfill())\n",
    "# Mengisi data nasional untuk kredit UMKM\n",
    "df_enriched['Total_Kredit_UMKM_Nasional'] = df_enriched['Total_Kredit_UMKM_Nasional'].ffill().bfill()\n",
    "    \n",
    "# 4.3. Membersihkan kolom tahun yang duplikat\n",
    "cols_to_drop = [col for col in df_enriched.columns if 'Tahun_x' in str(col) or 'Tahun_y' in str(col) or 'Tahun' == str(col)]\n",
    "df_enriched = df_enriched.drop(columns=cols_to_drop)\n",
    "    \n",
    "print(\"Penggabungan dataset selesai.\")"
   ]
  },
  {
   "cell_type": "markdown",
   "metadata": {},
   "source": [
    "## Bagian 5: Penggantian Nama Kolom (Opsional, untuk kejelasan)\n",
    "\n",
    "Kolom-kolom dalam dataset yang diperkaya akan diganti namanya untuk kejelasan dan konsistensi."
   ]
  },
  {
   "cell_type": "code",
   "execution_count": null,
   "metadata": {},
   "outputs": [],
   "source": [
    "print(\"Mengganti nama kolom untuk kejelasan...\")\n",
    "column_mapping = {\n",
    "    'Name': 'Nama_UMKM',\n",
    "    'City': 'Kota',\n",
    "    'State': 'Negara_Bagian_AS',\n",
    "    'Zip': 'Kode_Pos',\n",
    "    'Bank': 'Nama_Bank',\n",
    "    'BankState': 'Negara_Bagian_Bank',\n",
    "    'NAICS': 'Kode_Industri_NAICS',\n",
    "    'ApprovalDate': 'Tanggal_Persetujuan',\n",
    "    'ApprovalFY': 'Tahun_Fiskal_Persetujuan',\n",
    "    'Term': 'Jangka_Waktu_Bulan',\n",
    "    'NoEmp': 'Jumlah_Karyawan',\n",
    "    'NewExist': 'Status_Usaha_Baru',\n",
    "    'CreateJob': 'Penciptaan_Lapangan_Kerja',\n",
    "    'RetainedJob': 'Pekerjaan_Yang_Dipertahankan',\n",
    "    'FranchiseCode': 'Kode_Waralaba',\n",
    "    'UrbanRural': 'Status_Lokasi_Urban_Rural',\n",
    "    'RevLineCr': 'Kredit_Revolving',\n",
    "    'LowDoc': 'Dokumen_Ringkas',\n",
    "    'ChgOffDate': 'Tanggal_Penghapusan_Kredit',\n",
    "    'DisbursementDate': 'Tanggal_Pencairan',\n",
    "    'DisbursementGross': 'Jumlah_Pencairan_Kotor',\n",
    "    'BalanceGross': 'Saldo_Kotor',\n",
    "    'MIS_Status': 'Status_Kredit_Macet',\n",
    "    'ChgOffPrinGr': 'Jumlah_Penghapusan_Pokok',\n",
    "    'GrAppv': 'Jumlah_Pinjaman_Disetujui',\n",
    "    'SBA_Appv': 'Jumlah_Jaminan_SBA',\n",
    "    'TahunPersetujuan': 'Tahun_Persetujuan',\n",
    "    'Provinsi': 'Provinsi',\n",
    "    'Distribusi_PDRB': 'Distribusi_PDRB_Persen',\n",
    "    'TPT_Tahunan': 'TPT_Tahunan_Persen',\n",
    "    'Total_Kredit_UMKM_Nasional': 'Total_Kredit_UMKM_Nasional_Miliar'\n",
    "}\n",
    "df_enriched.rename(columns=column_mapping, inplace=True)\n",
    "print(\"Penggantian nama kolom selesai.\")"
   ]
  },
  {
   "cell_type": "markdown",
   "metadata": {},
   "source": [
    "## Bagian 6: Penyimpanan Dataset yang Diperkaya\n",
    "\n",
    "Dataset yang telah diperkaya akan disimpan ke dalam file CSV baru."
   ]
  },
  {
   "cell_type": "code",
   "execution_count": null,
   "metadata": {},
   "outputs": [],
   "source": [
    "print(\"Menyimpan dataset yang diperkaya...\")\n",
    "df_enriched.to_csv(\n",
    "    '/home/neva/DS_PROJECT/Datathon/Dataset_KreditLensa/Dataset_Kredit_Diperkaya.csv',\n",
    "    index=False\n",
    ")\n",
    "print(\"Proses feature enrichment selesai. Dataset baru disimpan sebagai 'Dataset_Kredit_Diperkaya.csv'\")"
   ]
  }
 ],
 "metadata": {
  "kernelspec": {
   "display_name": "Python 3",
   "language": "python",
   "name": "python3"
  },
  "language_info": {
   "codemirror_mode": {
    "name": "ipython",
    "version": 3
   },
   "file_extension": ".py",
   "mimetype": "text/x-python",
   "name": "python",
   "nbconvert_exporter": "python",
   "pygments_lexer": "ipython3",
   "version": "3.9.12"
  }
 },
 "nbformat": 4,
 "nbformat_minor": 4
}