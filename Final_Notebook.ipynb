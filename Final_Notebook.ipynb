{
  "cells": [
    {
      "cell_type": "markdown",
      "metadata": {
        "id": "XzDYmrs9Sg6G"
      },
      "source": [
        "# Bagian 1: Pemuatan dan Pra-pemrosesan Data"
      ],
      "id": "XzDYmrs9Sg6G"
    },
    {
      "cell_type": "code",
      "source": [
        "!pip install catboost"
      ],
      "metadata": {
        "colab": {
          "base_uri": "https://localhost:8080/"
        },
        "id": "ZJhLIc5eTyyH",
        "outputId": "8f813f8a-befc-4e8c-d97a-f65472b7985d"
      },
      "id": "ZJhLIc5eTyyH",
      "execution_count": 1,
      "outputs": [
        {
          "output_type": "stream",
          "name": "stdout",
          "text": [
            "Requirement already satisfied: catboost in /usr/local/lib/python3.11/dist-packages (1.2.8)\n",
            "Requirement already satisfied: graphviz in /usr/local/lib/python3.11/dist-packages (from catboost) (0.21)\n",
            "Requirement already satisfied: matplotlib in /usr/local/lib/python3.11/dist-packages (from catboost) (3.10.0)\n",
            "Requirement already satisfied: numpy<3.0,>=1.16.0 in /usr/local/lib/python3.11/dist-packages (from catboost) (2.0.2)\n",
            "Requirement already satisfied: pandas>=0.24 in /usr/local/lib/python3.11/dist-packages (from catboost) (2.2.2)\n",
            "Requirement already satisfied: scipy in /usr/local/lib/python3.11/dist-packages (from catboost) (1.15.3)\n",
            "Requirement already satisfied: plotly in /usr/local/lib/python3.11/dist-packages (from catboost) (5.24.1)\n",
            "Requirement already satisfied: six in /usr/local/lib/python3.11/dist-packages (from catboost) (1.17.0)\n",
            "Requirement already satisfied: python-dateutil>=2.8.2 in /usr/local/lib/python3.11/dist-packages (from pandas>=0.24->catboost) (2.9.0.post0)\n",
            "Requirement already satisfied: pytz>=2020.1 in /usr/local/lib/python3.11/dist-packages (from pandas>=0.24->catboost) (2025.2)\n",
            "Requirement already satisfied: tzdata>=2022.7 in /usr/local/lib/python3.11/dist-packages (from pandas>=0.24->catboost) (2025.2)\n",
            "Requirement already satisfied: contourpy>=1.0.1 in /usr/local/lib/python3.11/dist-packages (from matplotlib->catboost) (1.3.2)\n",
            "Requirement already satisfied: cycler>=0.10 in /usr/local/lib/python3.11/dist-packages (from matplotlib->catboost) (0.12.1)\n",
            "Requirement already satisfied: fonttools>=4.22.0 in /usr/local/lib/python3.11/dist-packages (from matplotlib->catboost) (4.58.5)\n",
            "Requirement already satisfied: kiwisolver>=1.3.1 in /usr/local/lib/python3.11/dist-packages (from matplotlib->catboost) (1.4.8)\n",
            "Requirement already satisfied: packaging>=20.0 in /usr/local/lib/python3.11/dist-packages (from matplotlib->catboost) (24.2)\n",
            "Requirement already satisfied: pillow>=8 in /usr/local/lib/python3.11/dist-packages (from matplotlib->catboost) (11.2.1)\n",
            "Requirement already satisfied: pyparsing>=2.3.1 in /usr/local/lib/python3.11/dist-packages (from matplotlib->catboost) (3.2.3)\n",
            "Requirement already satisfied: tenacity>=6.2.0 in /usr/local/lib/python3.11/dist-packages (from plotly->catboost) (8.5.0)\n"
          ]
        }
      ]
    },
    {
      "cell_type": "code",
      "execution_count": 2,
      "id": "1083b153",
      "metadata": {
        "colab": {
          "base_uri": "https://localhost:8080/"
        },
        "id": "1083b153",
        "outputId": "d7a1f2e5-55ff-4111-851a-33463d1b49e2"
      },
      "outputs": [
        {
          "output_type": "stream",
          "name": "stdout",
          "text": [
            "Semua library berhasil di-import.\n"
          ]
        }
      ],
      "source": [
        "import pandas as pd\n",
        "import numpy as np\n",
        "import re\n",
        "import joblib\n",
        "import shap\n",
        "import warnings\n",
        "warnings.filterwarnings('ignore')\n",
        "\n",
        "from xgboost import XGBClassifier\n",
        "from catboost import CatBoostClassifier\n",
        "from sklearn.ensemble import RandomForestClassifier\n",
        "from sklearn.model_selection import train_test_split\n",
        "from sklearn.metrics import classification_report, f1_score, average_precision_score\n",
        "from sklearn.preprocessing import StandardScaler, OneHotEncoder\n",
        "from sklearn.compose import ColumnTransformer\n",
        "from sklearn.pipeline import Pipeline\n",
        "from sklearn.impute import SimpleImputer\n",
        "from imblearn.pipeline import Pipeline as ImbPipeline\n",
        "from imblearn.under_sampling import TomekLinks\n",
        "from imblearn.over_sampling import SMOTE\n",
        "\n",
        "print(\"Semua library berhasil di-import.\")"
      ]
    },
    {
      "cell_type": "code",
      "execution_count": 3,
      "id": "c857e50c",
      "metadata": {
        "colab": {
          "base_uri": "https://localhost:8080/"
        },
        "id": "c857e50c",
        "outputId": "93b18805-6d37-4669-de98-657cc2e2859d"
      },
      "outputs": [
        {
          "output_type": "stream",
          "name": "stdout",
          "text": [
            "Melakukan pra-pemrosesan pada kolom mata uang...\n",
            "Membersihkan nama kolom...\n",
            "Data siap untuk pelatihan model.\n",
            "Ukuran data latih: (674373, 17)\n",
            "Ukuran data uji: (224791, 17)\n"
          ]
        }
      ],
      "source": [
        "def clean_col_names(df):\n",
        "    \"\"\"Membersihkan nama kolom menjadi format yang lebih sederhana.\"\"\"\n",
        "    cols = df.columns\n",
        "    new_cols = [re.sub(r'[^A-Za-z0-9]+', '', col) for col in cols]\n",
        "    df.columns = new_cols\n",
        "    return df\n",
        "\n",
        "# 1. Muat data mentah\n",
        "df_raw = pd.read_csv('Dataset_Kredit_Diperkaya.csv')\n",
        "df = df_raw.copy()\n",
        "\n",
        "# 2. Lakukan pra-pemrosesan pada kolom asli (dengan underscore)\n",
        "print(\"Melakukan pra-pemrosesan pada kolom mata uang...\")\n",
        "currency_cols = ['Jumlah_Pencairan_Kotor', 'Saldo_Kotor', 'Jumlah_Penghapusan_Pokok']\n",
        "for col in currency_cols:\n",
        "    if col in df.columns:\n",
        "        df[col] = df[col].astype(str).str.replace('$', '', regex=False).str.replace(',', '', regex=False).astype(float)\n",
        "\n",
        "# 3. Setelah selesai, baru bersihkan nama kolom untuk konsistensi\n",
        "print(\"Membersihkan nama kolom...\")\n",
        "df = clean_col_names(df)\n",
        "\n",
        "# 4. Definisikan fitur dan target menggunakan nama yang sudah bersih\n",
        "target = 'StatusKreditMacet'\n",
        "y = df[target]\n",
        "\n",
        "# Pilih fitur yang relevan untuk model\n",
        "numeric_features = df.select_dtypes(include=np.number).columns.tolist()\n",
        "categorical_features = ['Provinsi']\n",
        "\n",
        "# Hapus kolom yang tidak relevan/redundant\n",
        "cols_to_remove = ['StatusKreditMacet', 'LoanNrChkDgt', 'KodePos', 'TahunFiskalPersetujuan', 'TahunPersetujuan']\n",
        "numeric_features = [col for col in numeric_features if col not in cols_to_remove]\n",
        "\n",
        "X = df[numeric_features + categorical_features]\n",
        "\n",
        "# Lakukan pembagian data (NaN masih ada di dalam X, dan itu tidak apa-apa karena akan ditangani oleh pipeline)\n",
        "X_train, X_test, y_train, y_test = train_test_split(X, y, test_size=0.25, random_state=42, stratify=y)\n",
        "\n",
        "print(\"Data siap untuk pelatihan model.\")\n",
        "print(f\"Ukuran data latih: {X_train.shape}\")\n",
        "print(f\"Ukuran data uji: {X_test.shape}\")"
      ]
    },
    {
      "cell_type": "code",
      "execution_count": 4,
      "id": "e8949a13",
      "metadata": {
        "colab": {
          "base_uri": "https://localhost:8080/",
          "height": 1000
        },
        "id": "e8949a13",
        "outputId": "7c15297e-e2c6-4bfb-b084-4efe36a4f876"
      },
      "outputs": [
        {
          "output_type": "execute_result",
          "data": {
            "text/plain": [
              "LoanNrChkDgt                          0\n",
              "NamaUMKM                             14\n",
              "Kota                                 30\n",
              "NegaraBagianAS                       14\n",
              "KodePos                               0\n",
              "NamaBank                           1559\n",
              "NegaraBagianBank                   1566\n",
              "KodeIndustriNAICS                     0\n",
              "TanggalPersetujuan                    0\n",
              "TahunFiskalPersetujuan                0\n",
              "JangkaWaktuBulan                      0\n",
              "JumlahKaryawan                        0\n",
              "StatusUsahaBaru                     136\n",
              "PenciptaanLapanganKerja               0\n",
              "PekerjaanYangDipertahankan            0\n",
              "KodeWaralaba                          0\n",
              "StatusLokasiUrbanRural                0\n",
              "KreditRevolving                    4528\n",
              "DokumenRingkas                     2582\n",
              "TanggalPenghapusanKredit         736465\n",
              "TanggalPencairan                   2368\n",
              "JumlahPencairanKotor                  0\n",
              "SaldoKotor                            0\n",
              "StatusKreditMacet                     0\n",
              "JumlahPenghapusanPokok                0\n",
              "JumlahPinjamanDisetujui               0\n",
              "JumlahJaminanSBA                      0\n",
              "TahunPersetujuan                      0\n",
              "Provinsi                              0\n",
              "DistribusiPDRBPersen             899164\n",
              "TPTTahunanPersen                 899164\n",
              "TotalKreditUMKMNasionalMiliar    892251\n",
              "dtype: int64"
            ],
            "text/html": [
              "<div>\n",
              "<style scoped>\n",
              "    .dataframe tbody tr th:only-of-type {\n",
              "        vertical-align: middle;\n",
              "    }\n",
              "\n",
              "    .dataframe tbody tr th {\n",
              "        vertical-align: top;\n",
              "    }\n",
              "\n",
              "    .dataframe thead th {\n",
              "        text-align: right;\n",
              "    }\n",
              "</style>\n",
              "<table border=\"1\" class=\"dataframe\">\n",
              "  <thead>\n",
              "    <tr style=\"text-align: right;\">\n",
              "      <th></th>\n",
              "      <th>0</th>\n",
              "    </tr>\n",
              "  </thead>\n",
              "  <tbody>\n",
              "    <tr>\n",
              "      <th>LoanNrChkDgt</th>\n",
              "      <td>0</td>\n",
              "    </tr>\n",
              "    <tr>\n",
              "      <th>NamaUMKM</th>\n",
              "      <td>14</td>\n",
              "    </tr>\n",
              "    <tr>\n",
              "      <th>Kota</th>\n",
              "      <td>30</td>\n",
              "    </tr>\n",
              "    <tr>\n",
              "      <th>NegaraBagianAS</th>\n",
              "      <td>14</td>\n",
              "    </tr>\n",
              "    <tr>\n",
              "      <th>KodePos</th>\n",
              "      <td>0</td>\n",
              "    </tr>\n",
              "    <tr>\n",
              "      <th>NamaBank</th>\n",
              "      <td>1559</td>\n",
              "    </tr>\n",
              "    <tr>\n",
              "      <th>NegaraBagianBank</th>\n",
              "      <td>1566</td>\n",
              "    </tr>\n",
              "    <tr>\n",
              "      <th>KodeIndustriNAICS</th>\n",
              "      <td>0</td>\n",
              "    </tr>\n",
              "    <tr>\n",
              "      <th>TanggalPersetujuan</th>\n",
              "      <td>0</td>\n",
              "    </tr>\n",
              "    <tr>\n",
              "      <th>TahunFiskalPersetujuan</th>\n",
              "      <td>0</td>\n",
              "    </tr>\n",
              "    <tr>\n",
              "      <th>JangkaWaktuBulan</th>\n",
              "      <td>0</td>\n",
              "    </tr>\n",
              "    <tr>\n",
              "      <th>JumlahKaryawan</th>\n",
              "      <td>0</td>\n",
              "    </tr>\n",
              "    <tr>\n",
              "      <th>StatusUsahaBaru</th>\n",
              "      <td>136</td>\n",
              "    </tr>\n",
              "    <tr>\n",
              "      <th>PenciptaanLapanganKerja</th>\n",
              "      <td>0</td>\n",
              "    </tr>\n",
              "    <tr>\n",
              "      <th>PekerjaanYangDipertahankan</th>\n",
              "      <td>0</td>\n",
              "    </tr>\n",
              "    <tr>\n",
              "      <th>KodeWaralaba</th>\n",
              "      <td>0</td>\n",
              "    </tr>\n",
              "    <tr>\n",
              "      <th>StatusLokasiUrbanRural</th>\n",
              "      <td>0</td>\n",
              "    </tr>\n",
              "    <tr>\n",
              "      <th>KreditRevolving</th>\n",
              "      <td>4528</td>\n",
              "    </tr>\n",
              "    <tr>\n",
              "      <th>DokumenRingkas</th>\n",
              "      <td>2582</td>\n",
              "    </tr>\n",
              "    <tr>\n",
              "      <th>TanggalPenghapusanKredit</th>\n",
              "      <td>736465</td>\n",
              "    </tr>\n",
              "    <tr>\n",
              "      <th>TanggalPencairan</th>\n",
              "      <td>2368</td>\n",
              "    </tr>\n",
              "    <tr>\n",
              "      <th>JumlahPencairanKotor</th>\n",
              "      <td>0</td>\n",
              "    </tr>\n",
              "    <tr>\n",
              "      <th>SaldoKotor</th>\n",
              "      <td>0</td>\n",
              "    </tr>\n",
              "    <tr>\n",
              "      <th>StatusKreditMacet</th>\n",
              "      <td>0</td>\n",
              "    </tr>\n",
              "    <tr>\n",
              "      <th>JumlahPenghapusanPokok</th>\n",
              "      <td>0</td>\n",
              "    </tr>\n",
              "    <tr>\n",
              "      <th>JumlahPinjamanDisetujui</th>\n",
              "      <td>0</td>\n",
              "    </tr>\n",
              "    <tr>\n",
              "      <th>JumlahJaminanSBA</th>\n",
              "      <td>0</td>\n",
              "    </tr>\n",
              "    <tr>\n",
              "      <th>TahunPersetujuan</th>\n",
              "      <td>0</td>\n",
              "    </tr>\n",
              "    <tr>\n",
              "      <th>Provinsi</th>\n",
              "      <td>0</td>\n",
              "    </tr>\n",
              "    <tr>\n",
              "      <th>DistribusiPDRBPersen</th>\n",
              "      <td>899164</td>\n",
              "    </tr>\n",
              "    <tr>\n",
              "      <th>TPTTahunanPersen</th>\n",
              "      <td>899164</td>\n",
              "    </tr>\n",
              "    <tr>\n",
              "      <th>TotalKreditUMKMNasionalMiliar</th>\n",
              "      <td>892251</td>\n",
              "    </tr>\n",
              "  </tbody>\n",
              "</table>\n",
              "</div><br><label><b>dtype:</b> int64</label>"
            ]
          },
          "metadata": {},
          "execution_count": 4
        }
      ],
      "source": [
        "df.isna().sum()"
      ]
    },
    {
      "cell_type": "markdown",
      "id": "7d295685",
      "metadata": {
        "id": "7d295685"
      },
      "source": [
        "# Bagian 2: Pencarian Model & Sampler Terbaik"
      ]
    },
    {
      "cell_type": "code",
      "execution_count": 5,
      "id": "cc5cf451",
      "metadata": {
        "colab": {
          "base_uri": "https://localhost:8080/"
        },
        "id": "cc5cf451",
        "outputId": "1bddff6e-577d-4bb2-b3a3-0de6875c17b5"
      },
      "outputs": [
        {
          "output_type": "stream",
          "name": "stdout",
          "text": [
            "--- Menguji: Model [RandomForest] dengan Sampler [TomekLinks] ---\n",
            "Skor AUPRC: 0.9814\n",
            "--- Menguji: Model [RandomForest] dengan Sampler [SMOTE] ---\n",
            "Skor AUPRC: 0.9838\n",
            "--- Menguji: Model [RandomForest] dengan Sampler [None] ---\n",
            "Skor AUPRC: 0.9843\n",
            "--- Menguji: Model [XGBoost] dengan Sampler [TomekLinks] ---\n",
            "Skor AUPRC: 0.9897\n",
            "--- Menguji: Model [XGBoost] dengan Sampler [SMOTE] ---\n",
            "Skor AUPRC: 0.9897\n",
            "--- Menguji: Model [XGBoost] dengan Sampler [None] ---\n",
            "Skor AUPRC: 0.9899\n",
            "--- Menguji: Model [CatBoost] dengan Sampler [TomekLinks] ---\n",
            "Skor AUPRC: 0.9905\n",
            "--- Menguji: Model [CatBoost] dengan Sampler [SMOTE] ---\n",
            "Skor AUPRC: 0.9902\n",
            "--- Menguji: Model [CatBoost] dengan Sampler [None] ---\n",
            "Skor AUPRC: 0.9909\n",
            "\n",
            "=== Model Terbaik Ditemukan ===\n",
            "Kombinasi: CatBoost_with_None\n",
            "Skor AUPRC Terbaik: 0.9909\n"
          ]
        }
      ],
      "source": [
        "# Pipeline untuk pra-pemrosesan fitur numerik\n",
        "numeric_transformer = Pipeline(steps=[\n",
        "    ('imputer', SimpleImputer(strategy='median')),\n",
        "    ('scaler', StandardScaler())])\n",
        "\n",
        "# Pipeline untuk pra-pemrosesan fitur kategorikal\n",
        "categorical_transformer = Pipeline(steps=[\n",
        "    ('imputer', SimpleImputer(strategy='most_frequent')),\n",
        "    ('onehot', OneHotEncoder(handle_unknown='ignore', sparse_output=False))])\n",
        "\n",
        "# Gabungkan transformer ke dalam satu preprocessor\n",
        "preprocessor = ColumnTransformer(\n",
        "    transformers=[\n",
        "        ('num', numeric_transformer, numeric_features),\n",
        "        ('cat', categorical_transformer, categorical_features)])\n",
        "\n",
        "models = {\n",
        "    'RandomForest': RandomForestClassifier(random_state=42, class_weight='balanced'),\n",
        "    'XGBoost': XGBClassifier(random_state=42, use_label_encoder=False, eval_metric='logloss', device='cuda'),\n",
        "    'CatBoost': CatBoostClassifier(random_state=42, verbose=0, task_type='GPU')\n",
        "}\n",
        "\n",
        "samplers = {\n",
        "    'TomekLinks': TomekLinks(sampling_strategy='auto'),\n",
        "    'SMOTE': SMOTE(random_state=42),\n",
        "    'None': 'passthrough'\n",
        "}\n",
        "\n",
        "best_score = -1\n",
        "best_model_name = \"\"\n",
        "best_pipeline = None\n",
        "\n",
        "for model_name, model in models.items():\n",
        "    for sampler_name, sampler in samplers.items():\n",
        "        print(f\"--- Menguji: Model [{model_name}] dengan Sampler [{sampler_name}] ---\")\n",
        "        pipeline = ImbPipeline(steps=[\n",
        "            ('preprocessor', preprocessor),\n",
        "            ('sampler', sampler),\n",
        "            ('classifier', model)\n",
        "        ])\n",
        "        pipeline.fit(X_train, y_train)\n",
        "        y_pred_proba = pipeline.predict_proba(X_test)[:, 1]\n",
        "        auprc = average_precision_score(y_test, y_pred_proba)\n",
        "        print(f\"Skor AUPRC: {auprc:.4f}\")\n",
        "        if auprc > best_score:\n",
        "            best_score = auprc\n",
        "            best_model_name = f\"{model_name}_with_{sampler_name}\"\n",
        "            best_pipeline = pipeline\n",
        "\n",
        "print(f\"\\n=== Model Terbaik Ditemukan ===\")\n",
        "print(f\"Kombinasi: {best_model_name}\")\n",
        "print(f\"Skor AUPRC Terbaik: {best_score:.4f}\")"
      ]
    },
    {
      "cell_type": "markdown",
      "id": "036b04fa",
      "metadata": {
        "id": "036b04fa"
      },
      "source": [
        "# Bagian 3: Penyimpanan Artefak Model Terbaik"
      ]
    },
    {
      "cell_type": "code",
      "execution_count": 6,
      "id": "61d0167e",
      "metadata": {
        "colab": {
          "base_uri": "https://localhost:8080/"
        },
        "id": "61d0167e",
        "outputId": "de6bf207-fcc9-4b50-8bd2-24302521798a"
      },
      "outputs": [
        {
          "output_type": "stream",
          "name": "stdout",
          "text": [
            "Pipeline model terbaik disimpan sebagai 'best_model_pipeline.joblib'\n",
            "Explainer SHAP disimpan sebagai 'best_explainer.joblib'\n"
          ]
        }
      ],
      "source": [
        "joblib.dump(best_pipeline, 'best_model_pipeline.joblib')\n",
        "print(\"Pipeline model terbaik disimpan sebagai 'best_model_pipeline.joblib'\")\n",
        "\n",
        "# Untuk membuat explainer SHAP, kita perlu data latih yang sudah ditransformasi\n",
        "# Ambil langkah preprocessor dari pipeline terbaik dan transformasikan X_train\n",
        "X_train_transformed = best_pipeline.named_steps['preprocessor'].transform(X_train)\n",
        "model_classifier = best_pipeline.named_steps['classifier']\n",
        "\n",
        "explainer = shap.TreeExplainer(model_classifier, X_train_transformed)\n",
        "\n",
        "joblib.dump(explainer, 'best_explainer.joblib')\n",
        "print(\"Explainer SHAP disimpan sebagai 'best_explainer.joblib'\")"
      ]
    },
    {
      "cell_type": "markdown",
      "id": "1c08d0ba",
      "metadata": {
        "id": "1c08d0ba"
      },
      "source": [
        "# Bagian 4: Implementasi Explainable AI (XAI) untuk Transparansi Keputusan"
      ]
    },
    {
      "cell_type": "code",
      "execution_count": 7,
      "id": "5a068684",
      "metadata": {
        "id": "5a068684"
      },
      "outputs": [],
      "source": [
        "def jelaskan_keputusan_kredit(data_umkm_baru):\n",
        "    model_pipeline = joblib.load('best_model_pipeline.joblib')\n",
        "    explainer = joblib.load('best_explainer.joblib')\n",
        "\n",
        "    # Buat DataFrame dari input\n",
        "    input_df = pd.DataFrame([data_umkm_baru])\n",
        "\n",
        "    # Prediksi probabilitas gagal bayar\n",
        "    pred_proba = model_pipeline.predict_proba(input_df)[0][1]\n",
        "\n",
        "    if pred_proba > 0.5:\n",
        "        prediction = \"Kemungkinan Besar Ditolak\"\n",
        "\n",
        "        # Transformasi data input untuk mendapatkan SHAP values\n",
        "        input_transformed = model_pipeline.named_steps['preprocessor'].transform(input_df)\n",
        "        shap_values = explainer.shap_values(input_transformed)[0]\n",
        "        feature_names = model_pipeline.named_steps['preprocessor'].get_feature_names_out()\n",
        "\n",
        "        shap_df = pd.DataFrame([shap_values], columns=feature_names).T\n",
        "        shap_df.columns = ['shap_value']\n",
        "        shap_df['abs_shap'] = shap_df['shap_value'].abs()\n",
        "\n",
        "        # Ambil 3-4 fitur pendorong penolakan teratas\n",
        "        top_contributors = shap_df[shap_df['shap_value'] > 0].sort_values('abs_shap', ascending=False).head(4)\n",
        "\n",
        "        penjelasan = f\"Analisis Kredit: {prediction} (Probabilitas Gagal Bayar: {pred_proba:.1%})\\n\"\n",
        "        penjelasan += \"Berdasarkan analisis kami, ada beberapa faktor yang meningkatkan risiko kredit:\\n\"\n",
        "\n",
        "        for feature, row in top_contributors.iterrows():\n",
        "            clean_feature_name = re.sub(r'^(num__|cat)__', '', feature)\n",
        "\n",
        "            if 'Provinsi' in clean_feature_name:\n",
        "                provinsi_name = clean_feature_name.replace('Provinsi_', '')\n",
        "                penjelasan += f\"- Lokasi usaha di provinsi {provinsi_name.title()} menjadi salah satu faktor risiko utama.\\n\"\n",
        "            else:\n",
        "                # Cari nama kolom asli sebelum dibersihkan untuk mendapatkan nilai\n",
        "                original_col_name = None\n",
        "                for raw_col in data_umkm_baru.keys():\n",
        "                    if re.sub(r'[^A-Za-z0-9]+', '', raw_col) == clean_feature_name:\n",
        "                        original_col_name = raw_col\n",
        "                        break\n",
        "                value = data_umkm_baru.get(original_col_name, 'N/A')\n",
        "                penjelasan += f\"- {original_col_name.replace('_', ' ').title()} dengan nilai '{value}' teridentifikasi sebagai pendorong risiko signifikan.\\n\"\n",
        "    else:\n",
        "        prediction = \"Kemungkinan Besar Disetujui\"\n",
        "        penjelasan = f\"Analisis Kredit: {prediction} (Probabilitas Gagal Bayar: {pred_proba:.1%})\\n\"\n",
        "        penjelasan += \"Profil risiko peminjam dinilai cukup rendah berdasarkan data yang diberikan.\"\n",
        "\n",
        "    return penjelasan"
      ]
    }
  ],
  "metadata": {
    "language_info": {
      "name": "python"
    },
    "colab": {
      "provenance": [],
      "toc_visible": true,
      "gpuType": "T4"
    },
    "kernelspec": {
      "name": "python3",
      "display_name": "Python 3"
    },
    "accelerator": "GPU"
  },
  "nbformat": 4,
  "nbformat_minor": 5
}